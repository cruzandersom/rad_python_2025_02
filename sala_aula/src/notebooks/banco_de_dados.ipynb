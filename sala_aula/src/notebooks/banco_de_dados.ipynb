{
 "cells": [
  {
   "cell_type": "code",
   "execution_count": 2,
   "id": "initial_id",
   "metadata": {
    "collapsed": true,
    "ExecuteTime": {
     "end_time": "2025-09-22T22:28:09.631786800Z",
     "start_time": "2025-09-22T22:28:09.622444800Z"
    }
   },
   "outputs": [],
   "source": [
    "import sqlite3"
   ]
  },
  {
   "cell_type": "code",
   "execution_count": 17,
   "outputs": [
    {
     "name": "stdout",
     "output_type": "stream",
     "text": [
      "[(1, 'Ana', 20), (2, 'Bruno', 22), (3, 'Carla', 18), (4, 'Ana', 20), (5, 'Bruno', 22), (6, 'Carla', 18)]\n"
     ]
    }
   ],
   "source": [
    "# 1) Criar conexão;\n",
    "conn = sqlite3.connect('exemplo_sala.db')\n",
    "\n",
    "# 2) Criar um cursor;\n",
    "cursor = conn.cursor()\n",
    "\n",
    "# 3) executar minha operação qualquer;\n",
    "\n",
    "sql = \"\"\"\n",
    "    CREATE TABLE IF NOT EXISTS alunos (\n",
    "    id_aluno integer primary key ,\n",
    "    nome_aluno varchar(200) not null,\n",
    "    idade integer default 18\n",
    "    );\n",
    "\n",
    "\"\"\"\n",
    "\n",
    "cursor.execute(sql)\n",
    "\n",
    "cursor.execute(\"insert into alunos ( nome_aluno, idade) values ('Ana', 20);\")\n",
    "cursor.execute(\"insert into alunos (nome_aluno, idade) values ('Bruno', 22);\")\n",
    "cursor.execute(\"insert into alunos (nome_aluno) values ('Carla');\")\n",
    "\n",
    "cursor.execute(\"select * from alunos;\")\n",
    "\n",
    "print(cursor.fetchall())\n",
    "\n",
    "# 4) confirmar a operação (commit);\n",
    "conn.commit()\n",
    "\n",
    "# 5) fechar a conexão;\n",
    "conn.close()\n",
    "\n",
    "\n",
    "\n",
    "\n",
    "\n"
   ],
   "metadata": {
    "collapsed": false,
    "ExecuteTime": {
     "end_time": "2025-09-22T22:52:17.677551200Z",
     "start_time": "2025-09-22T22:52:17.662557100Z"
    }
   },
   "id": "7ca39e5f4e441223"
  },
  {
   "cell_type": "code",
   "execution_count": 33,
   "outputs": [
    {
     "name": "stdout",
     "output_type": "stream",
     "text": [
      "<sqlite3.Cursor object at 0x000001B23988B940>\n",
      "(1, 'Ana', 20)\n",
      "(2, 'Bruno', 22)\n",
      "(3, 'Carla', 18)\n",
      "(4, 'Ana', 20)\n",
      "(5, 'Bruno', 22)\n",
      "(6, 'Carla', 18)\n"
     ]
    }
   ],
   "source": [
    "conn = sqlite3.connect('exemplo_sala.db')\n",
    "cursor = conn.cursor()\n",
    "\n",
    "dados = cursor.execute(\"select * from alunos;\")\n",
    "print(dados)\n",
    "\n",
    "for linha in dados.fetchall():\n",
    "    print(linha)\n",
    "\n",
    "conn.close()"
   ],
   "metadata": {
    "collapsed": false,
    "ExecuteTime": {
     "end_time": "2025-09-22T23:14:34.161701Z",
     "start_time": "2025-09-22T23:14:34.125241500Z"
    }
   },
   "id": "b52b9bf7d55ab336"
  },
  {
   "cell_type": "code",
   "execution_count": 27,
   "outputs": [
    {
     "name": "stdout",
     "output_type": "stream",
     "text": [
      "<sqlite3.Cursor object at 0x000001B23988A340>\n",
      "(1, 'Ana', 20)\n",
      "(2, 'Bruno', 22)\n",
      "(3, 'Carla', 18)\n",
      "(4, 'Ana', 20)\n",
      "(5, 'Bruno', 22)\n",
      "(6, 'Carla', 18)\n"
     ]
    }
   ],
   "source": [
    "conn = sqlite3.connect('exemplo_sala.db')\n",
    "cursor = conn.cursor()\n",
    "\n",
    "dados = cursor.execute(\"select * from alunos;\")\n",
    "\n",
    "while dados is not None:\n",
    "    print(dados)\n",
    "    dados = cursor.fetchone()\n",
    "\n",
    "conn.close()"
   ],
   "metadata": {
    "collapsed": false,
    "ExecuteTime": {
     "end_time": "2025-09-22T23:10:33.996324100Z",
     "start_time": "2025-09-22T23:10:33.898494Z"
    }
   },
   "id": "f62c0e1b5246263b"
  },
  {
   "cell_type": "code",
   "execution_count": 46,
   "outputs": [
    {
     "name": "stdout",
     "output_type": "stream",
     "text": [
      "(1, 'Ana', 20)\n",
      "(2, 'Bruno', 22)\n",
      "(3, 'Carla', 18)\n",
      "(4, 'Ana', 20)\n",
      "(5, 'Bruno', 22)\n",
      "(6, 'Carla', 18)\n",
      "(7, 'Daniel', 19)\n",
      "(8, 'Eduarda', 21)\n",
      "(9, 'Fabio', 18)\n",
      "(10, 'Gustavo', 23)\n",
      "(11, 'Helena', 20)\n",
      "(12, 'Igor', 18)\n",
      "(13, 'Daniel', 19)\n",
      "(14, 'Eduarda', 21)\n",
      "(15, 'Fabio', 18)\n"
     ]
    },
    {
     "ename": "ProgrammingError",
     "evalue": "Cannot operate on a closed database.",
     "output_type": "error",
     "traceback": [
      "\u001B[31m---------------------------------------------------------------------------\u001B[39m",
      "\u001B[31mProgrammingError\u001B[39m                          Traceback (most recent call last)",
      "\u001B[31mProgrammingError\u001B[39m: Cannot operate on a closed database.",
      "\nDuring handling of the above exception, another exception occurred:\n",
      "\u001B[31mProgrammingError\u001B[39m                          Traceback (most recent call last)",
      "\u001B[36mCell\u001B[39m\u001B[36m \u001B[39m\u001B[32mIn[46]\u001B[39m\u001B[32m, line 3\u001B[39m\n\u001B[32m      1\u001B[39m conexao = sqlite3.connect(\u001B[33m'\u001B[39m\u001B[33mexemplo_sala.db\u001B[39m\u001B[33m'\u001B[39m)\n\u001B[32m----> \u001B[39m\u001B[32m3\u001B[39m \u001B[38;5;28;01mwith\u001B[39;00m conexao:\n\u001B[32m      4\u001B[39m     cursor = conexao.cursor()\n\u001B[32m      5\u001B[39m     cursor.execute(\u001B[33m\"\u001B[39m\u001B[33minsert into alunos (nome_aluno, idade) values (\u001B[39m\u001B[33m'\u001B[39m\u001B[33mDaniel\u001B[39m\u001B[33m'\u001B[39m\u001B[33m, 19);\u001B[39m\u001B[33m\"\u001B[39m)\n",
      "\u001B[31mProgrammingError\u001B[39m: Cannot operate on a closed database."
     ]
    }
   ],
   "source": [
    "conexao = sqlite3.connect('exemplo_sala.db')\n",
    "\n",
    "with conexao:\n",
    "    cursor = conexao.cursor()\n",
    "    cursor.execute(\"insert into alunos (nome_aluno, idade) values ('Daniel', 19);\")\n",
    "    cursor.execute(\"insert into alunos (nome_aluno, idade) values ('Eduarda', 21);\")\n",
    "    cursor.execute(\"insert into alunos (nome_aluno) values ('Fabio');\")\n",
    "\n",
    "    dados = cursor.execute(\"select * from alunos;\")\n",
    "    for linha in dados.fetchall():\n",
    "        print(linha)\n",
    "        \n",
    "        \n",
    "        \n",
    "        \n",
    "    \n"
   ],
   "metadata": {
    "collapsed": false,
    "ExecuteTime": {
     "end_time": "2025-09-22T23:58:22.225505200Z",
     "start_time": "2025-09-22T23:58:22.166961500Z"
    }
   },
   "id": "3bc82326803a9af0"
  },
  {
   "cell_type": "code",
   "execution_count": 48,
   "outputs": [],
   "source": [
    "conexao.close()"
   ],
   "metadata": {
    "collapsed": false,
    "ExecuteTime": {
     "end_time": "2025-09-22T23:58:50.459810500Z",
     "start_time": "2025-09-22T23:58:50.449572400Z"
    }
   },
   "id": "af9eea3b3c05e70c"
  },
  {
   "cell_type": "code",
   "execution_count": 37,
   "outputs": [
    {
     "name": "stdout",
     "output_type": "stream",
     "text": [
      "(1, 'Ana', 20)\n",
      "(2, 'Bruno', 22)\n",
      "(3, 'Carla', 18)\n",
      "(4, 'Ana', 20)\n",
      "(5, 'Bruno', 22)\n",
      "(6, 'Carla', 18)\n",
      "(7, 'Daniel', 19)\n",
      "(8, 'Eduarda', 21)\n",
      "(9, 'Fabio', 18)\n",
      "(10, 'Gustavo', 23)\n",
      "(11, 'Helena', 20)\n",
      "(12, 'Igor', 18)\n"
     ]
    }
   ],
   "source": [
    "conexao = sqlite3.connect('exemplo_sala.db')\n",
    "cursor = conexao.cursor()\n",
    "\n",
    "try:\n",
    "    cursor.execute(\"insert into alunos (nome_aluno, idade) values ('Gustavo', 23);\")\n",
    "    cursor.execute(\"insert into alunos (nome_aluno, idade) values ('Helena', 20);\")\n",
    "    cursor.execute(\"insert into alunos (nome_aluno) values ('Igor');\")\n",
    "\n",
    "    dados = cursor.execute(\"select * from alunos;\")\n",
    "    for linha in dados.fetchall():\n",
    "        print(linha)\n",
    "\n",
    "    conexao.commit()\n",
    "\n",
    "except Exception as e:\n",
    "    print('Erro ao inserir dados: ', e)\n",
    "    conexao.rollback()\n",
    "\n",
    "finally:\n",
    "    conexao.close()\n",
    "    \n",
    "    "
   ],
   "metadata": {
    "collapsed": false,
    "ExecuteTime": {
     "end_time": "2025-09-22T23:52:52.844935200Z",
     "start_time": "2025-09-22T23:52:52.828548600Z"
    }
   },
   "id": "98924a0146bd5328"
  },
  {
   "cell_type": "code",
   "execution_count": 52,
   "outputs": [],
   "source": [
    "def retorna_conexao_banco_de_dados(nome_banco):\n",
    "    return sqlite3.connect(nome_banco)\n"
   ],
   "metadata": {
    "collapsed": false,
    "ExecuteTime": {
     "end_time": "2025-09-23T00:05:09.183989500Z",
     "start_time": "2025-09-23T00:05:09.151060200Z"
    }
   },
   "id": "1685c56ce5ad51d"
  },
  {
   "cell_type": "code",
   "execution_count": 53,
   "outputs": [
    {
     "name": "stdout",
     "output_type": "stream",
     "text": [
      "(1, 'Ana', 20)\n",
      "(2, 'Bruno', 22)\n",
      "(3, 'Carla', 18)\n",
      "(4, 'Ana', 20)\n",
      "(5, 'Bruno', 22)\n",
      "(6, 'Carla', 18)\n",
      "(7, 'Daniel', 19)\n",
      "(8, 'Eduarda', 21)\n",
      "(9, 'Fabio', 18)\n",
      "(10, 'Gustavo', 23)\n",
      "(11, 'Helena', 20)\n",
      "(12, 'Igor', 18)\n"
     ]
    }
   ],
   "source": [
    "with retorna_conexao_banco_de_dados('exemplo_sala.db') as conexao:\n",
    "    dados = conexao.cursor().execute(\"select * from alunos;\").fetchall()\n",
    "    for linha in dados:\n",
    "        print(linha)"
   ],
   "metadata": {
    "collapsed": false,
    "ExecuteTime": {
     "end_time": "2025-09-23T00:05:34.270692900Z",
     "start_time": "2025-09-23T00:05:34.259183800Z"
    }
   },
   "id": "2ee4a4362f87d45"
  },
  {
   "cell_type": "code",
   "execution_count": 51,
   "outputs": [
    {
     "data": {
      "text/plain": "[(1, 'Ana', 20),\n (2, 'Bruno', 22),\n (3, 'Carla', 18),\n (4, 'Ana', 20),\n (5, 'Bruno', 22),\n (6, 'Carla', 18),\n (7, 'Daniel', 19),\n (8, 'Eduarda', 21),\n (9, 'Fabio', 18),\n (10, 'Gustavo', 23),\n (11, 'Helena', 20),\n (12, 'Igor', 18)]"
     },
     "execution_count": 51,
     "metadata": {},
     "output_type": "execute_result"
    }
   ],
   "source": [
    "\n",
    "conexao.cursor().execute(\"select * from alunos;\").fetchall()"
   ],
   "metadata": {
    "collapsed": false,
    "ExecuteTime": {
     "end_time": "2025-09-22T23:59:08.817999500Z",
     "start_time": "2025-09-22T23:59:08.809500300Z"
    }
   },
   "id": "8a12ec3f10163b87"
  },
  {
   "cell_type": "code",
   "execution_count": null,
   "outputs": [],
   "source": [],
   "metadata": {
    "collapsed": false
   },
   "id": "f09e9fd0fc15fb69"
  }
 ],
 "metadata": {
  "kernelspec": {
   "display_name": "Python 3",
   "language": "python",
   "name": "python3"
  },
  "language_info": {
   "codemirror_mode": {
    "name": "ipython",
    "version": 2
   },
   "file_extension": ".py",
   "mimetype": "text/x-python",
   "name": "python",
   "nbconvert_exporter": "python",
   "pygments_lexer": "ipython2",
   "version": "2.7.6"
  }
 },
 "nbformat": 4,
 "nbformat_minor": 5
}
