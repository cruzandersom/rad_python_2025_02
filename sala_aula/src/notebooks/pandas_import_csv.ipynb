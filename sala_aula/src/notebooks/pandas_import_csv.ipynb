{
 "cells": [
  {
   "cell_type": "code",
   "execution_count": 1,
   "id": "initial_id",
   "metadata": {
    "collapsed": true,
    "ExecuteTime": {
     "end_time": "2025-09-15T23:01:23.526939200Z",
     "start_time": "2025-09-15T23:01:20.264759600Z"
    }
   },
   "outputs": [],
   "source": [
    "import pandas as pd"
   ]
  },
  {
   "cell_type": "code",
   "execution_count": 2,
   "outputs": [
    {
     "data": {
      "text/plain": "  Date , Vehicle , Driver , Odometer  (Km ), Duration , Speed  (Km/h ), Maximum RPM , Event Type , Event Description , Limit  (Km/h )\n0  05/03/2025 08:20:06 (UTC-3), RTJ2F79, ERIVELTO...                                                                                 \n1  05/03/2025 08:15:30 (UTC-3), RTJ2F79, ERIVELTO...                                                                                 \n2  05/03/2025 08:14:03 (UTC-3), RTJ2F79, ERIVELTO...                                                                                 ",
      "text/html": "<div>\n<style scoped>\n    .dataframe tbody tr th:only-of-type {\n        vertical-align: middle;\n    }\n\n    .dataframe tbody tr th {\n        vertical-align: top;\n    }\n\n    .dataframe thead th {\n        text-align: right;\n    }\n</style>\n<table border=\"1\" class=\"dataframe\">\n  <thead>\n    <tr style=\"text-align: right;\">\n      <th></th>\n      <th>Date , Vehicle , Driver , Odometer  (Km ), Duration , Speed  (Km/h ), Maximum RPM , Event Type , Event Description , Limit  (Km/h )</th>\n    </tr>\n  </thead>\n  <tbody>\n    <tr>\n      <th>0</th>\n      <td>05/03/2025 08:20:06 (UTC-3), RTJ2F79, ERIVELTO...</td>\n    </tr>\n    <tr>\n      <th>1</th>\n      <td>05/03/2025 08:15:30 (UTC-3), RTJ2F79, ERIVELTO...</td>\n    </tr>\n    <tr>\n      <th>2</th>\n      <td>05/03/2025 08:14:03 (UTC-3), RTJ2F79, ERIVELTO...</td>\n    </tr>\n  </tbody>\n</table>\n</div>"
     },
     "execution_count": 2,
     "metadata": {},
     "output_type": "execute_result"
    }
   ],
   "source": [
    "# importando csv com nome de df\n",
    "df = pd.read_csv('pux_vel_.csv', sep=',')\n",
    "\n",
    "# exibindo o arquivo head(3)\n",
    "df.head(3)"
   ],
   "metadata": {
    "collapsed": false,
    "ExecuteTime": {
     "end_time": "2025-09-15T23:01:23.593617900Z",
     "start_time": "2025-09-15T23:01:23.532276500Z"
    }
   },
   "id": "fb3405a42c2e5e29"
  },
  {
   "cell_type": "code",
   "execution_count": 6,
   "outputs": [],
   "source": [
    "COLUNAS = [\n",
    "    'data', 'veiculo', 'motorista', 'odometro', 'duracao', 'velocidade',\n",
    "    'rpm', 'tipo_evento', 'descricao_evento', 'limite_velocidade'\n",
    "]"
   ],
   "metadata": {
    "collapsed": false,
    "ExecuteTime": {
     "end_time": "2025-09-15T23:09:40.053036400Z",
     "start_time": "2025-09-15T23:09:40.047904200Z"
    }
   },
   "id": "df7cea88ee3a3fee"
  },
  {
   "cell_type": "code",
   "execution_count": 7,
   "outputs": [],
   "source": [
    "df = pd.read_csv('pux_vel_.csv', \n",
    "                 sep=',', \n",
    "                 names=[\"geral\"], \n",
    "                skiprows=1)"
   ],
   "metadata": {
    "collapsed": false,
    "ExecuteTime": {
     "end_time": "2025-09-15T23:09:40.865745Z",
     "start_time": "2025-09-15T23:09:40.838863700Z"
    }
   },
   "id": "96073d11fc8e05e3"
  },
  {
   "cell_type": "code",
   "execution_count": 8,
   "outputs": [],
   "source": [
    "# remover as aspas no início e fim de cada linha\n",
    "\n",
    "# forma vetorizada de resolver o problema\n",
    "df['geral'] = df['geral'].str.strip('\"').\\\n",
    "    str.replace('\"', '')\n",
    "\n",
    "# forma convencional de resolução do problema\n",
    "for coluna in df.columns:\n",
    "    df[coluna] = df[coluna].str.replace('\"', '')\n"
   ],
   "metadata": {
    "collapsed": false,
    "ExecuteTime": {
     "end_time": "2025-09-15T23:09:41.943379400Z",
     "start_time": "2025-09-15T23:09:41.923223200Z"
    }
   },
   "id": "6f10a90518188546"
  },
  {
   "cell_type": "code",
   "execution_count": 9,
   "outputs": [],
   "source": [
    "df2 = df.copy()\n"
   ],
   "metadata": {
    "collapsed": false,
    "ExecuteTime": {
     "end_time": "2025-09-15T23:09:44.062749800Z",
     "start_time": "2025-09-15T23:09:44.059616100Z"
    }
   },
   "id": "fe82eee8b544f88e"
  },
  {
   "cell_type": "code",
   "execution_count": 10,
   "outputs": [],
   "source": [
    "x,y,z,w = (0,1,2,3)"
   ],
   "metadata": {
    "collapsed": false,
    "ExecuteTime": {
     "end_time": "2025-09-15T23:09:45.075344Z",
     "start_time": "2025-09-15T23:09:45.053886400Z"
    }
   },
   "id": "63cc45d015d9f17e"
  },
  {
   "cell_type": "code",
   "execution_count": 11,
   "outputs": [
    {
     "name": "stdout",
     "output_type": "stream",
     "text": [
      "0 1 2 3\n"
     ]
    }
   ],
   "source": [
    "print(x,y,z,w)"
   ],
   "metadata": {
    "collapsed": false,
    "ExecuteTime": {
     "end_time": "2025-09-15T23:09:57.949821700Z",
     "start_time": "2025-09-15T23:09:57.925371400Z"
    }
   },
   "id": "3251cd1d9a25b609"
  },
  {
   "cell_type": "code",
   "execution_count": 12,
   "outputs": [
    {
     "data": {
      "text/plain": "[0, 1, 2, 3]"
     },
     "execution_count": 12,
     "metadata": {},
     "output_type": "execute_result"
    }
   ],
   "source": [
    "list((0,1,2,3))"
   ],
   "metadata": {
    "collapsed": false,
    "ExecuteTime": {
     "end_time": "2025-09-15T23:10:11.540054300Z",
     "start_time": "2025-09-15T23:10:11.524323600Z"
    }
   },
   "id": "5d648db8336d99f"
  },
  {
   "cell_type": "code",
   "execution_count": 13,
   "outputs": [],
   "source": [
    "# fazendo split dos dados já nas colunas\n",
    "\n",
    "# forma 01\n",
    "#df2[COLUNAS] = df2['geral'].str.split(',', expand=True)\n",
    "\n",
    "# forma 02\n",
    "#df2[COLUNAS] = df2.loc[:, 'geral'].str.split(',', expand=True)\n",
    "\n",
    "\n",
    "df2[COLUNAS] = df2.iloc[:, 0].str.split(',', expand=True)"
   ],
   "metadata": {
    "collapsed": false,
    "ExecuteTime": {
     "end_time": "2025-09-15T23:10:15.294440500Z",
     "start_time": "2025-09-15T23:10:15.252281800Z"
    }
   },
   "id": "3a83f42996e45174"
  },
  {
   "cell_type": "code",
   "execution_count": 17,
   "outputs": [
    {
     "data": {
      "text/plain": "                          data   veiculo                    motorista  \\\n0  05/03/2025 08:20:06 (UTC-3)   RTJ2F79   ERIVELTON MIRANDA DA SILVA   \n1  05/03/2025 08:15:30 (UTC-3)   RTJ2F79   ERIVELTON MIRANDA DA SILVA   \n2  05/03/2025 08:14:03 (UTC-3)   RTJ2F79   ERIVELTON MIRANDA DA SILVA   \n\n    odometro    duracao velocidade    rpm       tipo_evento  \\\n0   561865.7   00:00:15         86   1996   Speeding (dry)    \n1   561860.2   00:00:19         84   2008   Speeding (dry)    \n2   561858.6   00:01:24         87   1365   Speeding (dry)    \n\n           descricao_evento limite_velocidade  \n0   Speeding - Highway dry                 80  \n1   Speeding - Highway dry                 80  \n2   Speeding - Highway dry                 80  ",
      "text/html": "<div>\n<style scoped>\n    .dataframe tbody tr th:only-of-type {\n        vertical-align: middle;\n    }\n\n    .dataframe tbody tr th {\n        vertical-align: top;\n    }\n\n    .dataframe thead th {\n        text-align: right;\n    }\n</style>\n<table border=\"1\" class=\"dataframe\">\n  <thead>\n    <tr style=\"text-align: right;\">\n      <th></th>\n      <th>data</th>\n      <th>veiculo</th>\n      <th>motorista</th>\n      <th>odometro</th>\n      <th>duracao</th>\n      <th>velocidade</th>\n      <th>rpm</th>\n      <th>tipo_evento</th>\n      <th>descricao_evento</th>\n      <th>limite_velocidade</th>\n    </tr>\n  </thead>\n  <tbody>\n    <tr>\n      <th>0</th>\n      <td>05/03/2025 08:20:06 (UTC-3)</td>\n      <td>RTJ2F79</td>\n      <td>ERIVELTON MIRANDA DA SILVA</td>\n      <td>561865.7</td>\n      <td>00:00:15</td>\n      <td>86</td>\n      <td>1996</td>\n      <td>Speeding (dry)</td>\n      <td>Speeding - Highway dry</td>\n      <td>80</td>\n    </tr>\n    <tr>\n      <th>1</th>\n      <td>05/03/2025 08:15:30 (UTC-3)</td>\n      <td>RTJ2F79</td>\n      <td>ERIVELTON MIRANDA DA SILVA</td>\n      <td>561860.2</td>\n      <td>00:00:19</td>\n      <td>84</td>\n      <td>2008</td>\n      <td>Speeding (dry)</td>\n      <td>Speeding - Highway dry</td>\n      <td>80</td>\n    </tr>\n    <tr>\n      <th>2</th>\n      <td>05/03/2025 08:14:03 (UTC-3)</td>\n      <td>RTJ2F79</td>\n      <td>ERIVELTON MIRANDA DA SILVA</td>\n      <td>561858.6</td>\n      <td>00:01:24</td>\n      <td>87</td>\n      <td>1365</td>\n      <td>Speeding (dry)</td>\n      <td>Speeding - Highway dry</td>\n      <td>80</td>\n    </tr>\n  </tbody>\n</table>\n</div>"
     },
     "execution_count": 17,
     "metadata": {},
     "output_type": "execute_result"
    }
   ],
   "source": [
    "df2.head(3)"
   ],
   "metadata": {
    "collapsed": false,
    "ExecuteTime": {
     "end_time": "2025-09-15T23:14:35.091411Z",
     "start_time": "2025-09-15T23:14:35.064646800Z"
    }
   },
   "id": "e3fc22b1de934724"
  },
  {
   "cell_type": "code",
   "execution_count": 16,
   "outputs": [
    {
     "ename": "KeyError",
     "evalue": "\"['geral'] not found in axis\"",
     "output_type": "error",
     "traceback": [
      "\u001B[31m---------------------------------------------------------------------------\u001B[39m",
      "\u001B[31mKeyError\u001B[39m                                  Traceback (most recent call last)",
      "\u001B[36mCell\u001B[39m\u001B[36m \u001B[39m\u001B[32mIn[16]\u001B[39m\u001B[32m, line 2\u001B[39m\n\u001B[32m      1\u001B[39m \u001B[38;5;66;03m# remover coluna geral\u001B[39;00m\n\u001B[32m----> \u001B[39m\u001B[32m2\u001B[39m \u001B[43mdf2\u001B[49m\u001B[43m.\u001B[49m\u001B[43mdrop\u001B[49m\u001B[43m(\u001B[49m\u001B[43mcolumns\u001B[49m\u001B[43m=\u001B[49m\u001B[43m[\u001B[49m\u001B[33;43m'\u001B[39;49m\u001B[33;43mgeral\u001B[39;49m\u001B[33;43m'\u001B[39;49m\u001B[43m]\u001B[49m\u001B[43m,\u001B[49m\u001B[43m \u001B[49m\u001B[43minplace\u001B[49m\u001B[43m=\u001B[49m\u001B[38;5;28;43;01mTrue\u001B[39;49;00m\u001B[43m)\u001B[49m\n\u001B[32m      4\u001B[39m \u001B[38;5;66;03m# df2 = df2.drop(columns=['geral'])\u001B[39;00m\n",
      "\u001B[36mFile \u001B[39m\u001B[32mD:\\sala_aula\\Lib\\site-packages\\pandas\\core\\frame.py:5588\u001B[39m, in \u001B[36mDataFrame.drop\u001B[39m\u001B[34m(self, labels, axis, index, columns, level, inplace, errors)\u001B[39m\n\u001B[32m   5440\u001B[39m \u001B[38;5;28;01mdef\u001B[39;00m\u001B[38;5;250m \u001B[39m\u001B[34mdrop\u001B[39m(\n\u001B[32m   5441\u001B[39m     \u001B[38;5;28mself\u001B[39m,\n\u001B[32m   5442\u001B[39m     labels: IndexLabel | \u001B[38;5;28;01mNone\u001B[39;00m = \u001B[38;5;28;01mNone\u001B[39;00m,\n\u001B[32m   (...)\u001B[39m\u001B[32m   5449\u001B[39m     errors: IgnoreRaise = \u001B[33m\"\u001B[39m\u001B[33mraise\u001B[39m\u001B[33m\"\u001B[39m,\n\u001B[32m   5450\u001B[39m ) -> DataFrame | \u001B[38;5;28;01mNone\u001B[39;00m:\n\u001B[32m   5451\u001B[39m \u001B[38;5;250m    \u001B[39m\u001B[33;03m\"\"\"\u001B[39;00m\n\u001B[32m   5452\u001B[39m \u001B[33;03m    Drop specified labels from rows or columns.\u001B[39;00m\n\u001B[32m   5453\u001B[39m \n\u001B[32m   (...)\u001B[39m\u001B[32m   5586\u001B[39m \u001B[33;03m            weight  1.0     0.8\u001B[39;00m\n\u001B[32m   5587\u001B[39m \u001B[33;03m    \"\"\"\u001B[39;00m\n\u001B[32m-> \u001B[39m\u001B[32m5588\u001B[39m     \u001B[38;5;28;01mreturn\u001B[39;00m \u001B[38;5;28;43msuper\u001B[39;49m\u001B[43m(\u001B[49m\u001B[43m)\u001B[49m\u001B[43m.\u001B[49m\u001B[43mdrop\u001B[49m\u001B[43m(\u001B[49m\n\u001B[32m   5589\u001B[39m \u001B[43m        \u001B[49m\u001B[43mlabels\u001B[49m\u001B[43m=\u001B[49m\u001B[43mlabels\u001B[49m\u001B[43m,\u001B[49m\n\u001B[32m   5590\u001B[39m \u001B[43m        \u001B[49m\u001B[43maxis\u001B[49m\u001B[43m=\u001B[49m\u001B[43maxis\u001B[49m\u001B[43m,\u001B[49m\n\u001B[32m   5591\u001B[39m \u001B[43m        \u001B[49m\u001B[43mindex\u001B[49m\u001B[43m=\u001B[49m\u001B[43mindex\u001B[49m\u001B[43m,\u001B[49m\n\u001B[32m   5592\u001B[39m \u001B[43m        \u001B[49m\u001B[43mcolumns\u001B[49m\u001B[43m=\u001B[49m\u001B[43mcolumns\u001B[49m\u001B[43m,\u001B[49m\n\u001B[32m   5593\u001B[39m \u001B[43m        \u001B[49m\u001B[43mlevel\u001B[49m\u001B[43m=\u001B[49m\u001B[43mlevel\u001B[49m\u001B[43m,\u001B[49m\n\u001B[32m   5594\u001B[39m \u001B[43m        \u001B[49m\u001B[43minplace\u001B[49m\u001B[43m=\u001B[49m\u001B[43minplace\u001B[49m\u001B[43m,\u001B[49m\n\u001B[32m   5595\u001B[39m \u001B[43m        \u001B[49m\u001B[43merrors\u001B[49m\u001B[43m=\u001B[49m\u001B[43merrors\u001B[49m\u001B[43m,\u001B[49m\n\u001B[32m   5596\u001B[39m \u001B[43m    \u001B[49m\u001B[43m)\u001B[49m\n",
      "\u001B[36mFile \u001B[39m\u001B[32mD:\\sala_aula\\Lib\\site-packages\\pandas\\core\\generic.py:4807\u001B[39m, in \u001B[36mNDFrame.drop\u001B[39m\u001B[34m(self, labels, axis, index, columns, level, inplace, errors)\u001B[39m\n\u001B[32m   4805\u001B[39m \u001B[38;5;28;01mfor\u001B[39;00m axis, labels \u001B[38;5;129;01min\u001B[39;00m axes.items():\n\u001B[32m   4806\u001B[39m     \u001B[38;5;28;01mif\u001B[39;00m labels \u001B[38;5;129;01mis\u001B[39;00m \u001B[38;5;129;01mnot\u001B[39;00m \u001B[38;5;28;01mNone\u001B[39;00m:\n\u001B[32m-> \u001B[39m\u001B[32m4807\u001B[39m         obj = \u001B[43mobj\u001B[49m\u001B[43m.\u001B[49m\u001B[43m_drop_axis\u001B[49m\u001B[43m(\u001B[49m\u001B[43mlabels\u001B[49m\u001B[43m,\u001B[49m\u001B[43m \u001B[49m\u001B[43maxis\u001B[49m\u001B[43m,\u001B[49m\u001B[43m \u001B[49m\u001B[43mlevel\u001B[49m\u001B[43m=\u001B[49m\u001B[43mlevel\u001B[49m\u001B[43m,\u001B[49m\u001B[43m \u001B[49m\u001B[43merrors\u001B[49m\u001B[43m=\u001B[49m\u001B[43merrors\u001B[49m\u001B[43m)\u001B[49m\n\u001B[32m   4809\u001B[39m \u001B[38;5;28;01mif\u001B[39;00m inplace:\n\u001B[32m   4810\u001B[39m     \u001B[38;5;28mself\u001B[39m._update_inplace(obj)\n",
      "\u001B[36mFile \u001B[39m\u001B[32mD:\\sala_aula\\Lib\\site-packages\\pandas\\core\\generic.py:4849\u001B[39m, in \u001B[36mNDFrame._drop_axis\u001B[39m\u001B[34m(self, labels, axis, level, errors, only_slice)\u001B[39m\n\u001B[32m   4847\u001B[39m         new_axis = axis.drop(labels, level=level, errors=errors)\n\u001B[32m   4848\u001B[39m     \u001B[38;5;28;01melse\u001B[39;00m:\n\u001B[32m-> \u001B[39m\u001B[32m4849\u001B[39m         new_axis = \u001B[43maxis\u001B[49m\u001B[43m.\u001B[49m\u001B[43mdrop\u001B[49m\u001B[43m(\u001B[49m\u001B[43mlabels\u001B[49m\u001B[43m,\u001B[49m\u001B[43m \u001B[49m\u001B[43merrors\u001B[49m\u001B[43m=\u001B[49m\u001B[43merrors\u001B[49m\u001B[43m)\u001B[49m\n\u001B[32m   4850\u001B[39m     indexer = axis.get_indexer(new_axis)\n\u001B[32m   4852\u001B[39m \u001B[38;5;66;03m# Case for non-unique axis\u001B[39;00m\n\u001B[32m   4853\u001B[39m \u001B[38;5;28;01melse\u001B[39;00m:\n",
      "\u001B[36mFile \u001B[39m\u001B[32mD:\\sala_aula\\Lib\\site-packages\\pandas\\core\\indexes\\base.py:7136\u001B[39m, in \u001B[36mIndex.drop\u001B[39m\u001B[34m(self, labels, errors)\u001B[39m\n\u001B[32m   7134\u001B[39m \u001B[38;5;28;01mif\u001B[39;00m mask.any():\n\u001B[32m   7135\u001B[39m     \u001B[38;5;28;01mif\u001B[39;00m errors != \u001B[33m\"\u001B[39m\u001B[33mignore\u001B[39m\u001B[33m\"\u001B[39m:\n\u001B[32m-> \u001B[39m\u001B[32m7136\u001B[39m         \u001B[38;5;28;01mraise\u001B[39;00m \u001B[38;5;167;01mKeyError\u001B[39;00m(\u001B[33mf\u001B[39m\u001B[33m\"\u001B[39m\u001B[38;5;132;01m{\u001B[39;00mlabels[mask].tolist()\u001B[38;5;132;01m}\u001B[39;00m\u001B[33m not found in axis\u001B[39m\u001B[33m\"\u001B[39m)\n\u001B[32m   7137\u001B[39m     indexer = indexer[~mask]\n\u001B[32m   7138\u001B[39m \u001B[38;5;28;01mreturn\u001B[39;00m \u001B[38;5;28mself\u001B[39m.delete(indexer)\n",
      "\u001B[31mKeyError\u001B[39m: \"['geral'] not found in axis\""
     ]
    }
   ],
   "source": [
    "# remover coluna geral\n",
    "df2.drop(columns=['geral'], inplace=True)\n",
    "\n",
    "# df2 = df2.drop(columns=['geral'])"
   ],
   "metadata": {
    "collapsed": false,
    "ExecuteTime": {
     "end_time": "2025-09-15T23:14:28.295537Z",
     "start_time": "2025-09-15T23:14:27.698110800Z"
    }
   },
   "id": "b289ca615b50ffa5"
  },
  {
   "cell_type": "code",
   "execution_count": 18,
   "outputs": [
    {
     "data": {
      "text/plain": "Empty DataFrame\nColumns: []\nIndex: [0, 1, 2, 3, 4, 5, 6, 7, 8, 9, 10, 11, 12, 13, 14, 15, 16, 17, 18, 19, 20, 21, 22, 23, 24, 25, 26, 27, 28, 29, 30, 31, 32, 33, 34, 35, 36, 37, 38, 39, 40, 41, 42, 43, 44, 45, 46, 47, 48, 49, 50, 51, 52, 53, 54, 55, 56, 57, 58, 59, 60, 61, 62, 63, 64, 65, 66, 67, 68, 69, 70, 71, 72, 73, 74, 75, 76, 77, 78, 79, 80, 81, 82, 83, 84, 85, 86, 87, 88, 89, 90, 91, 92, 93, 94, 95, 96, 97, 98, 99, ...]\n\n[4974 rows x 0 columns]",
      "text/html": "<div>\n<style scoped>\n    .dataframe tbody tr th:only-of-type {\n        vertical-align: middle;\n    }\n\n    .dataframe tbody tr th {\n        vertical-align: top;\n    }\n\n    .dataframe thead th {\n        text-align: right;\n    }\n</style>\n<table border=\"1\" class=\"dataframe\">\n  <thead>\n    <tr style=\"text-align: right;\">\n      <th></th>\n    </tr>\n  </thead>\n  <tbody>\n    <tr>\n      <th>0</th>\n    </tr>\n    <tr>\n      <th>1</th>\n    </tr>\n    <tr>\n      <th>2</th>\n    </tr>\n    <tr>\n      <th>3</th>\n    </tr>\n    <tr>\n      <th>4</th>\n    </tr>\n    <tr>\n      <th>...</th>\n    </tr>\n    <tr>\n      <th>4969</th>\n    </tr>\n    <tr>\n      <th>4970</th>\n    </tr>\n    <tr>\n      <th>4971</th>\n    </tr>\n    <tr>\n      <th>4972</th>\n    </tr>\n    <tr>\n      <th>4973</th>\n    </tr>\n  </tbody>\n</table>\n<p>4974 rows × 0 columns</p>\n</div>"
     },
     "execution_count": 18,
     "metadata": {},
     "output_type": "execute_result"
    }
   ],
   "source": [
    "# operação não realizada no objeto em memória ( somente na visualização dos dados);\n",
    "df.drop(columns=['geral'])"
   ],
   "metadata": {
    "collapsed": false,
    "ExecuteTime": {
     "end_time": "2025-09-15T23:14:53.174808300Z",
     "start_time": "2025-09-15T23:14:53.127912900Z"
    }
   },
   "id": "f396f162c3cf0268"
  },
  {
   "cell_type": "code",
   "execution_count": 19,
   "outputs": [
    {
     "ename": "KeyError",
     "evalue": "\"['geral'] not found in axis\"",
     "output_type": "error",
     "traceback": [
      "\u001B[31m---------------------------------------------------------------------------\u001B[39m",
      "\u001B[31mKeyError\u001B[39m                                  Traceback (most recent call last)",
      "\u001B[36mCell\u001B[39m\u001B[36m \u001B[39m\u001B[32mIn[19]\u001B[39m\u001B[32m, line 1\u001B[39m\n\u001B[32m----> \u001B[39m\u001B[32m1\u001B[39m \u001B[43mdf\u001B[49m\u001B[43m.\u001B[49m\u001B[43mdrop\u001B[49m\u001B[43m(\u001B[49m\u001B[33;43m'\u001B[39;49m\u001B[33;43mgeral\u001B[39;49m\u001B[33;43m'\u001B[39;49m\u001B[43m,\u001B[49m\u001B[43m \u001B[49m\u001B[43maxis\u001B[49m\u001B[43m=\u001B[49m\u001B[32;43m0\u001B[39;49m\u001B[43m)\u001B[49m\n",
      "\u001B[36mFile \u001B[39m\u001B[32mD:\\sala_aula\\Lib\\site-packages\\pandas\\core\\frame.py:5588\u001B[39m, in \u001B[36mDataFrame.drop\u001B[39m\u001B[34m(self, labels, axis, index, columns, level, inplace, errors)\u001B[39m\n\u001B[32m   5440\u001B[39m \u001B[38;5;28;01mdef\u001B[39;00m\u001B[38;5;250m \u001B[39m\u001B[34mdrop\u001B[39m(\n\u001B[32m   5441\u001B[39m     \u001B[38;5;28mself\u001B[39m,\n\u001B[32m   5442\u001B[39m     labels: IndexLabel | \u001B[38;5;28;01mNone\u001B[39;00m = \u001B[38;5;28;01mNone\u001B[39;00m,\n\u001B[32m   (...)\u001B[39m\u001B[32m   5449\u001B[39m     errors: IgnoreRaise = \u001B[33m\"\u001B[39m\u001B[33mraise\u001B[39m\u001B[33m\"\u001B[39m,\n\u001B[32m   5450\u001B[39m ) -> DataFrame | \u001B[38;5;28;01mNone\u001B[39;00m:\n\u001B[32m   5451\u001B[39m \u001B[38;5;250m    \u001B[39m\u001B[33;03m\"\"\"\u001B[39;00m\n\u001B[32m   5452\u001B[39m \u001B[33;03m    Drop specified labels from rows or columns.\u001B[39;00m\n\u001B[32m   5453\u001B[39m \n\u001B[32m   (...)\u001B[39m\u001B[32m   5586\u001B[39m \u001B[33;03m            weight  1.0     0.8\u001B[39;00m\n\u001B[32m   5587\u001B[39m \u001B[33;03m    \"\"\"\u001B[39;00m\n\u001B[32m-> \u001B[39m\u001B[32m5588\u001B[39m     \u001B[38;5;28;01mreturn\u001B[39;00m \u001B[38;5;28;43msuper\u001B[39;49m\u001B[43m(\u001B[49m\u001B[43m)\u001B[49m\u001B[43m.\u001B[49m\u001B[43mdrop\u001B[49m\u001B[43m(\u001B[49m\n\u001B[32m   5589\u001B[39m \u001B[43m        \u001B[49m\u001B[43mlabels\u001B[49m\u001B[43m=\u001B[49m\u001B[43mlabels\u001B[49m\u001B[43m,\u001B[49m\n\u001B[32m   5590\u001B[39m \u001B[43m        \u001B[49m\u001B[43maxis\u001B[49m\u001B[43m=\u001B[49m\u001B[43maxis\u001B[49m\u001B[43m,\u001B[49m\n\u001B[32m   5591\u001B[39m \u001B[43m        \u001B[49m\u001B[43mindex\u001B[49m\u001B[43m=\u001B[49m\u001B[43mindex\u001B[49m\u001B[43m,\u001B[49m\n\u001B[32m   5592\u001B[39m \u001B[43m        \u001B[49m\u001B[43mcolumns\u001B[49m\u001B[43m=\u001B[49m\u001B[43mcolumns\u001B[49m\u001B[43m,\u001B[49m\n\u001B[32m   5593\u001B[39m \u001B[43m        \u001B[49m\u001B[43mlevel\u001B[49m\u001B[43m=\u001B[49m\u001B[43mlevel\u001B[49m\u001B[43m,\u001B[49m\n\u001B[32m   5594\u001B[39m \u001B[43m        \u001B[49m\u001B[43minplace\u001B[49m\u001B[43m=\u001B[49m\u001B[43minplace\u001B[49m\u001B[43m,\u001B[49m\n\u001B[32m   5595\u001B[39m \u001B[43m        \u001B[49m\u001B[43merrors\u001B[49m\u001B[43m=\u001B[49m\u001B[43merrors\u001B[49m\u001B[43m,\u001B[49m\n\u001B[32m   5596\u001B[39m \u001B[43m    \u001B[49m\u001B[43m)\u001B[49m\n",
      "\u001B[36mFile \u001B[39m\u001B[32mD:\\sala_aula\\Lib\\site-packages\\pandas\\core\\generic.py:4807\u001B[39m, in \u001B[36mNDFrame.drop\u001B[39m\u001B[34m(self, labels, axis, index, columns, level, inplace, errors)\u001B[39m\n\u001B[32m   4805\u001B[39m \u001B[38;5;28;01mfor\u001B[39;00m axis, labels \u001B[38;5;129;01min\u001B[39;00m axes.items():\n\u001B[32m   4806\u001B[39m     \u001B[38;5;28;01mif\u001B[39;00m labels \u001B[38;5;129;01mis\u001B[39;00m \u001B[38;5;129;01mnot\u001B[39;00m \u001B[38;5;28;01mNone\u001B[39;00m:\n\u001B[32m-> \u001B[39m\u001B[32m4807\u001B[39m         obj = \u001B[43mobj\u001B[49m\u001B[43m.\u001B[49m\u001B[43m_drop_axis\u001B[49m\u001B[43m(\u001B[49m\u001B[43mlabels\u001B[49m\u001B[43m,\u001B[49m\u001B[43m \u001B[49m\u001B[43maxis\u001B[49m\u001B[43m,\u001B[49m\u001B[43m \u001B[49m\u001B[43mlevel\u001B[49m\u001B[43m=\u001B[49m\u001B[43mlevel\u001B[49m\u001B[43m,\u001B[49m\u001B[43m \u001B[49m\u001B[43merrors\u001B[49m\u001B[43m=\u001B[49m\u001B[43merrors\u001B[49m\u001B[43m)\u001B[49m\n\u001B[32m   4809\u001B[39m \u001B[38;5;28;01mif\u001B[39;00m inplace:\n\u001B[32m   4810\u001B[39m     \u001B[38;5;28mself\u001B[39m._update_inplace(obj)\n",
      "\u001B[36mFile \u001B[39m\u001B[32mD:\\sala_aula\\Lib\\site-packages\\pandas\\core\\generic.py:4849\u001B[39m, in \u001B[36mNDFrame._drop_axis\u001B[39m\u001B[34m(self, labels, axis, level, errors, only_slice)\u001B[39m\n\u001B[32m   4847\u001B[39m         new_axis = axis.drop(labels, level=level, errors=errors)\n\u001B[32m   4848\u001B[39m     \u001B[38;5;28;01melse\u001B[39;00m:\n\u001B[32m-> \u001B[39m\u001B[32m4849\u001B[39m         new_axis = \u001B[43maxis\u001B[49m\u001B[43m.\u001B[49m\u001B[43mdrop\u001B[49m\u001B[43m(\u001B[49m\u001B[43mlabels\u001B[49m\u001B[43m,\u001B[49m\u001B[43m \u001B[49m\u001B[43merrors\u001B[49m\u001B[43m=\u001B[49m\u001B[43merrors\u001B[49m\u001B[43m)\u001B[49m\n\u001B[32m   4850\u001B[39m     indexer = axis.get_indexer(new_axis)\n\u001B[32m   4852\u001B[39m \u001B[38;5;66;03m# Case for non-unique axis\u001B[39;00m\n\u001B[32m   4853\u001B[39m \u001B[38;5;28;01melse\u001B[39;00m:\n",
      "\u001B[36mFile \u001B[39m\u001B[32mD:\\sala_aula\\Lib\\site-packages\\pandas\\core\\indexes\\base.py:7136\u001B[39m, in \u001B[36mIndex.drop\u001B[39m\u001B[34m(self, labels, errors)\u001B[39m\n\u001B[32m   7134\u001B[39m \u001B[38;5;28;01mif\u001B[39;00m mask.any():\n\u001B[32m   7135\u001B[39m     \u001B[38;5;28;01mif\u001B[39;00m errors != \u001B[33m\"\u001B[39m\u001B[33mignore\u001B[39m\u001B[33m\"\u001B[39m:\n\u001B[32m-> \u001B[39m\u001B[32m7136\u001B[39m         \u001B[38;5;28;01mraise\u001B[39;00m \u001B[38;5;167;01mKeyError\u001B[39;00m(\u001B[33mf\u001B[39m\u001B[33m\"\u001B[39m\u001B[38;5;132;01m{\u001B[39;00mlabels[mask].tolist()\u001B[38;5;132;01m}\u001B[39;00m\u001B[33m not found in axis\u001B[39m\u001B[33m\"\u001B[39m)\n\u001B[32m   7137\u001B[39m     indexer = indexer[~mask]\n\u001B[32m   7138\u001B[39m \u001B[38;5;28;01mreturn\u001B[39;00m \u001B[38;5;28mself\u001B[39m.delete(indexer)\n",
      "\u001B[31mKeyError\u001B[39m: \"['geral'] not found in axis\""
     ]
    }
   ],
   "source": [
    "df.drop('geral', axis=0)"
   ],
   "metadata": {
    "collapsed": false,
    "ExecuteTime": {
     "end_time": "2025-09-15T23:15:07.352887700Z",
     "start_time": "2025-09-15T23:15:07.238185200Z"
    }
   },
   "id": "efcc125c8afe7e0d"
  },
  {
   "cell_type": "code",
   "execution_count": 20,
   "outputs": [
    {
     "data": {
      "text/plain": "                             data   veiculo                    motorista  \\\n0     05/03/2025 08:20:06 (UTC-3)   RTJ2F79   ERIVELTON MIRANDA DA SILVA   \n1     05/03/2025 08:15:30 (UTC-3)   RTJ2F79   ERIVELTON MIRANDA DA SILVA   \n2     05/03/2025 08:14:03 (UTC-3)   RTJ2F79   ERIVELTON MIRANDA DA SILVA   \n3     05/03/2025 08:11:50 (UTC-3)   RTJ2F79   ERIVELTON MIRANDA DA SILVA   \n4     05/03/2025 08:11:04 (UTC-3)   RTJ2F79   ERIVELTON MIRANDA DA SILVA   \n...                           ...       ...                          ...   \n4969  03/02/2025 03:25:46 (UTC-3)   RTJ2F79                   No driver    \n4970  03/02/2025 03:22:09 (UTC-3)   RTJ2F79                   No driver    \n4971  03/02/2025 03:19:13 (UTC-3)   RTJ2F79                   No driver    \n4972  03/02/2025 03:15:46 (UTC-3)   RTJ2F79                   No driver    \n4973  03/02/2025 03:15:03 (UTC-3)   RTJ2F79                   No driver    \n\n       odometro    duracao velocidade    rpm       tipo_evento  \\\n0      561865.7   00:00:15         86   1996   Speeding (dry)    \n1      561860.2   00:00:19         84   2008   Speeding (dry)    \n2      561858.6   00:01:24         87   1365   Speeding (dry)    \n3      561855.6   00:00:30         90   2177   Speeding (dry)    \n4      561854.6   00:00:54         88   1373   Speeding (dry)    \n...         ...        ...        ...    ...               ...   \n4969   548486.9   00:01:23         89   1387   Speeding (dry)    \n4970   548485.3   00:02:32         91   1382   Speeding (dry)    \n4971   548481.1   00:02:48         89   1388   Speeding (dry)    \n4972   548476.0   00:00:22         83   1304   Speeding (dry)    \n4973   548475.2   00:00:13         83    501   Speeding (dry)    \n\n              descricao_evento limite_velocidade  \n0      Speeding - Highway dry                 80  \n1      Speeding - Highway dry                 80  \n2      Speeding - Highway dry                 80  \n3      Speeding - Highway dry                 80  \n4      Speeding - Highway dry                 80  \n...                        ...               ...  \n4969   Speeding - Highway dry                 80  \n4970   Speeding - Highway dry                 80  \n4971   Speeding - Highway dry                 80  \n4972   Speeding - Highway dry                 80  \n4973   Speeding - Highway dry                 80  \n\n[4974 rows x 10 columns]",
      "text/html": "<div>\n<style scoped>\n    .dataframe tbody tr th:only-of-type {\n        vertical-align: middle;\n    }\n\n    .dataframe tbody tr th {\n        vertical-align: top;\n    }\n\n    .dataframe thead th {\n        text-align: right;\n    }\n</style>\n<table border=\"1\" class=\"dataframe\">\n  <thead>\n    <tr style=\"text-align: right;\">\n      <th></th>\n      <th>data</th>\n      <th>veiculo</th>\n      <th>motorista</th>\n      <th>odometro</th>\n      <th>duracao</th>\n      <th>velocidade</th>\n      <th>rpm</th>\n      <th>tipo_evento</th>\n      <th>descricao_evento</th>\n      <th>limite_velocidade</th>\n    </tr>\n  </thead>\n  <tbody>\n    <tr>\n      <th>0</th>\n      <td>05/03/2025 08:20:06 (UTC-3)</td>\n      <td>RTJ2F79</td>\n      <td>ERIVELTON MIRANDA DA SILVA</td>\n      <td>561865.7</td>\n      <td>00:00:15</td>\n      <td>86</td>\n      <td>1996</td>\n      <td>Speeding (dry)</td>\n      <td>Speeding - Highway dry</td>\n      <td>80</td>\n    </tr>\n    <tr>\n      <th>1</th>\n      <td>05/03/2025 08:15:30 (UTC-3)</td>\n      <td>RTJ2F79</td>\n      <td>ERIVELTON MIRANDA DA SILVA</td>\n      <td>561860.2</td>\n      <td>00:00:19</td>\n      <td>84</td>\n      <td>2008</td>\n      <td>Speeding (dry)</td>\n      <td>Speeding - Highway dry</td>\n      <td>80</td>\n    </tr>\n    <tr>\n      <th>2</th>\n      <td>05/03/2025 08:14:03 (UTC-3)</td>\n      <td>RTJ2F79</td>\n      <td>ERIVELTON MIRANDA DA SILVA</td>\n      <td>561858.6</td>\n      <td>00:01:24</td>\n      <td>87</td>\n      <td>1365</td>\n      <td>Speeding (dry)</td>\n      <td>Speeding - Highway dry</td>\n      <td>80</td>\n    </tr>\n    <tr>\n      <th>3</th>\n      <td>05/03/2025 08:11:50 (UTC-3)</td>\n      <td>RTJ2F79</td>\n      <td>ERIVELTON MIRANDA DA SILVA</td>\n      <td>561855.6</td>\n      <td>00:00:30</td>\n      <td>90</td>\n      <td>2177</td>\n      <td>Speeding (dry)</td>\n      <td>Speeding - Highway dry</td>\n      <td>80</td>\n    </tr>\n    <tr>\n      <th>4</th>\n      <td>05/03/2025 08:11:04 (UTC-3)</td>\n      <td>RTJ2F79</td>\n      <td>ERIVELTON MIRANDA DA SILVA</td>\n      <td>561854.6</td>\n      <td>00:00:54</td>\n      <td>88</td>\n      <td>1373</td>\n      <td>Speeding (dry)</td>\n      <td>Speeding - Highway dry</td>\n      <td>80</td>\n    </tr>\n    <tr>\n      <th>...</th>\n      <td>...</td>\n      <td>...</td>\n      <td>...</td>\n      <td>...</td>\n      <td>...</td>\n      <td>...</td>\n      <td>...</td>\n      <td>...</td>\n      <td>...</td>\n      <td>...</td>\n    </tr>\n    <tr>\n      <th>4969</th>\n      <td>03/02/2025 03:25:46 (UTC-3)</td>\n      <td>RTJ2F79</td>\n      <td>No driver</td>\n      <td>548486.9</td>\n      <td>00:01:23</td>\n      <td>89</td>\n      <td>1387</td>\n      <td>Speeding (dry)</td>\n      <td>Speeding - Highway dry</td>\n      <td>80</td>\n    </tr>\n    <tr>\n      <th>4970</th>\n      <td>03/02/2025 03:22:09 (UTC-3)</td>\n      <td>RTJ2F79</td>\n      <td>No driver</td>\n      <td>548485.3</td>\n      <td>00:02:32</td>\n      <td>91</td>\n      <td>1382</td>\n      <td>Speeding (dry)</td>\n      <td>Speeding - Highway dry</td>\n      <td>80</td>\n    </tr>\n    <tr>\n      <th>4971</th>\n      <td>03/02/2025 03:19:13 (UTC-3)</td>\n      <td>RTJ2F79</td>\n      <td>No driver</td>\n      <td>548481.1</td>\n      <td>00:02:48</td>\n      <td>89</td>\n      <td>1388</td>\n      <td>Speeding (dry)</td>\n      <td>Speeding - Highway dry</td>\n      <td>80</td>\n    </tr>\n    <tr>\n      <th>4972</th>\n      <td>03/02/2025 03:15:46 (UTC-3)</td>\n      <td>RTJ2F79</td>\n      <td>No driver</td>\n      <td>548476.0</td>\n      <td>00:00:22</td>\n      <td>83</td>\n      <td>1304</td>\n      <td>Speeding (dry)</td>\n      <td>Speeding - Highway dry</td>\n      <td>80</td>\n    </tr>\n    <tr>\n      <th>4973</th>\n      <td>03/02/2025 03:15:03 (UTC-3)</td>\n      <td>RTJ2F79</td>\n      <td>No driver</td>\n      <td>548475.2</td>\n      <td>00:00:13</td>\n      <td>83</td>\n      <td>501</td>\n      <td>Speeding (dry)</td>\n      <td>Speeding - Highway dry</td>\n      <td>80</td>\n    </tr>\n  </tbody>\n</table>\n<p>4974 rows × 10 columns</p>\n</div>"
     },
     "execution_count": 20,
     "metadata": {},
     "output_type": "execute_result"
    }
   ],
   "source": [
    "df2"
   ],
   "metadata": {
    "collapsed": false,
    "ExecuteTime": {
     "end_time": "2025-09-15T23:15:16.950217100Z",
     "start_time": "2025-09-15T23:15:16.925975100Z"
    }
   },
   "id": "1a818b05448b392"
  },
  {
   "cell_type": "code",
   "execution_count": 22,
   "outputs": [
    {
     "data": {
      "text/plain": "data                 object\nveiculo              object\nmotorista            object\nodometro             object\nduracao              object\nvelocidade           object\nrpm                  object\ntipo_evento          object\ndescricao_evento     object\nlimite_velocidade    object\ndtype: object"
     },
     "execution_count": 22,
     "metadata": {},
     "output_type": "execute_result"
    }
   ],
   "source": [
    "df2.dtypes"
   ],
   "metadata": {
    "collapsed": false,
    "ExecuteTime": {
     "end_time": "2025-09-15T23:20:05.321612300Z",
     "start_time": "2025-09-15T23:20:05.263175100Z"
    }
   },
   "id": "9c1c55413b1de28"
  },
  {
   "cell_type": "code",
   "execution_count": 23,
   "outputs": [],
   "source": [
    "COLUNAS = [\n",
    "    'data', 'veiculo', 'motorista', 'odometro', 'duracao', 'velocidade',\n",
    "    'rpm', 'tipo_evento', 'descricao_evento', 'limite_velocidade'\n",
    "]"
   ],
   "metadata": {
    "collapsed": false,
    "ExecuteTime": {
     "end_time": "2025-09-15T23:20:12.959546100Z",
     "start_time": "2025-09-15T23:20:12.949378400Z"
    }
   },
   "id": "989207243e5a9b87"
  },
  {
   "cell_type": "code",
   "execution_count": 24,
   "outputs": [],
   "source": [
    "numericas = ['odometro',  'velocidade', 'rpm', 'limite_velocidade']   \n",
    "\n",
    "for coluna in numericas:\n",
    "    df2[coluna] = pd.to_numeric(df2[coluna], \n",
    "                                errors='coerce')\n"
   ],
   "metadata": {
    "collapsed": false,
    "ExecuteTime": {
     "end_time": "2025-09-15T23:31:57.731921Z",
     "start_time": "2025-09-15T23:31:57.721122900Z"
    }
   },
   "id": "f61025108ec14dba"
  },
  {
   "cell_type": "code",
   "execution_count": 25,
   "outputs": [],
   "source": [
    "# criando novas colunas\n",
    "\n",
    "# coluna de excesso de velocidade\n",
    "df2['exc_vel']  = df2.velocidade - df2.limite_velocidade\n",
    "\n",
    "# coluna de excesso de velocidade em percentual\n",
    "df2['exc_vel_per'] = ((df2.exc_vel / df2.limite_velocidade) * 100).round(2)\n"
   ],
   "metadata": {
    "collapsed": false,
    "ExecuteTime": {
     "end_time": "2025-09-15T23:32:15.008770600Z",
     "start_time": "2025-09-15T23:32:14.990022600Z"
    }
   },
   "id": "79d73a304485e62c"
  },
  {
   "cell_type": "code",
   "execution_count": 26,
   "outputs": [
    {
     "data": {
      "text/plain": "data                  object\nveiculo               object\nmotorista             object\nodometro             float64\nduracao               object\nvelocidade             int64\nrpm                    int64\ntipo_evento           object\ndescricao_evento      object\nlimite_velocidade      int64\nexc_vel                int64\nexc_vel_per          float64\ndtype: object"
     },
     "execution_count": 26,
     "metadata": {},
     "output_type": "execute_result"
    }
   ],
   "source": [
    "df2.dtypes"
   ],
   "metadata": {
    "collapsed": false,
    "ExecuteTime": {
     "end_time": "2025-09-15T23:32:17.291022800Z",
     "start_time": "2025-09-15T23:32:17.265097400Z"
    }
   },
   "id": "c85dc30a92cfb8a7"
  },
  {
   "cell_type": "code",
   "execution_count": 27,
   "outputs": [
    {
     "data": {
      "text/plain": "                             data   veiculo                    motorista  \\\n0     05/03/2025 08:20:06 (UTC-3)   RTJ2F79   ERIVELTON MIRANDA DA SILVA   \n1     05/03/2025 08:15:30 (UTC-3)   RTJ2F79   ERIVELTON MIRANDA DA SILVA   \n2     05/03/2025 08:14:03 (UTC-3)   RTJ2F79   ERIVELTON MIRANDA DA SILVA   \n3     05/03/2025 08:11:50 (UTC-3)   RTJ2F79   ERIVELTON MIRANDA DA SILVA   \n4     05/03/2025 08:11:04 (UTC-3)   RTJ2F79   ERIVELTON MIRANDA DA SILVA   \n...                           ...       ...                          ...   \n4969  03/02/2025 03:25:46 (UTC-3)   RTJ2F79                   No driver    \n4970  03/02/2025 03:22:09 (UTC-3)   RTJ2F79                   No driver    \n4971  03/02/2025 03:19:13 (UTC-3)   RTJ2F79                   No driver    \n4972  03/02/2025 03:15:46 (UTC-3)   RTJ2F79                   No driver    \n4973  03/02/2025 03:15:03 (UTC-3)   RTJ2F79                   No driver    \n\n      odometro    duracao  velocidade   rpm       tipo_evento  \\\n0     561865.7   00:00:15          86  1996   Speeding (dry)    \n1     561860.2   00:00:19          84  2008   Speeding (dry)    \n2     561858.6   00:01:24          87  1365   Speeding (dry)    \n3     561855.6   00:00:30          90  2177   Speeding (dry)    \n4     561854.6   00:00:54          88  1373   Speeding (dry)    \n...        ...        ...         ...   ...               ...   \n4969  548486.9   00:01:23          89  1387   Speeding (dry)    \n4970  548485.3   00:02:32          91  1382   Speeding (dry)    \n4971  548481.1   00:02:48          89  1388   Speeding (dry)    \n4972  548476.0   00:00:22          83  1304   Speeding (dry)    \n4973  548475.2   00:00:13          83   501   Speeding (dry)    \n\n              descricao_evento  limite_velocidade  exc_vel  exc_vel_per  \n0      Speeding - Highway dry                  80        6         7.50  \n1      Speeding - Highway dry                  80        4         5.00  \n2      Speeding - Highway dry                  80        7         8.75  \n3      Speeding - Highway dry                  80       10        12.50  \n4      Speeding - Highway dry                  80        8        10.00  \n...                        ...                ...      ...          ...  \n4969   Speeding - Highway dry                  80        9        11.25  \n4970   Speeding - Highway dry                  80       11        13.75  \n4971   Speeding - Highway dry                  80        9        11.25  \n4972   Speeding - Highway dry                  80        3         3.75  \n4973   Speeding - Highway dry                  80        3         3.75  \n\n[4974 rows x 12 columns]",
      "text/html": "<div>\n<style scoped>\n    .dataframe tbody tr th:only-of-type {\n        vertical-align: middle;\n    }\n\n    .dataframe tbody tr th {\n        vertical-align: top;\n    }\n\n    .dataframe thead th {\n        text-align: right;\n    }\n</style>\n<table border=\"1\" class=\"dataframe\">\n  <thead>\n    <tr style=\"text-align: right;\">\n      <th></th>\n      <th>data</th>\n      <th>veiculo</th>\n      <th>motorista</th>\n      <th>odometro</th>\n      <th>duracao</th>\n      <th>velocidade</th>\n      <th>rpm</th>\n      <th>tipo_evento</th>\n      <th>descricao_evento</th>\n      <th>limite_velocidade</th>\n      <th>exc_vel</th>\n      <th>exc_vel_per</th>\n    </tr>\n  </thead>\n  <tbody>\n    <tr>\n      <th>0</th>\n      <td>05/03/2025 08:20:06 (UTC-3)</td>\n      <td>RTJ2F79</td>\n      <td>ERIVELTON MIRANDA DA SILVA</td>\n      <td>561865.7</td>\n      <td>00:00:15</td>\n      <td>86</td>\n      <td>1996</td>\n      <td>Speeding (dry)</td>\n      <td>Speeding - Highway dry</td>\n      <td>80</td>\n      <td>6</td>\n      <td>7.50</td>\n    </tr>\n    <tr>\n      <th>1</th>\n      <td>05/03/2025 08:15:30 (UTC-3)</td>\n      <td>RTJ2F79</td>\n      <td>ERIVELTON MIRANDA DA SILVA</td>\n      <td>561860.2</td>\n      <td>00:00:19</td>\n      <td>84</td>\n      <td>2008</td>\n      <td>Speeding (dry)</td>\n      <td>Speeding - Highway dry</td>\n      <td>80</td>\n      <td>4</td>\n      <td>5.00</td>\n    </tr>\n    <tr>\n      <th>2</th>\n      <td>05/03/2025 08:14:03 (UTC-3)</td>\n      <td>RTJ2F79</td>\n      <td>ERIVELTON MIRANDA DA SILVA</td>\n      <td>561858.6</td>\n      <td>00:01:24</td>\n      <td>87</td>\n      <td>1365</td>\n      <td>Speeding (dry)</td>\n      <td>Speeding - Highway dry</td>\n      <td>80</td>\n      <td>7</td>\n      <td>8.75</td>\n    </tr>\n    <tr>\n      <th>3</th>\n      <td>05/03/2025 08:11:50 (UTC-3)</td>\n      <td>RTJ2F79</td>\n      <td>ERIVELTON MIRANDA DA SILVA</td>\n      <td>561855.6</td>\n      <td>00:00:30</td>\n      <td>90</td>\n      <td>2177</td>\n      <td>Speeding (dry)</td>\n      <td>Speeding - Highway dry</td>\n      <td>80</td>\n      <td>10</td>\n      <td>12.50</td>\n    </tr>\n    <tr>\n      <th>4</th>\n      <td>05/03/2025 08:11:04 (UTC-3)</td>\n      <td>RTJ2F79</td>\n      <td>ERIVELTON MIRANDA DA SILVA</td>\n      <td>561854.6</td>\n      <td>00:00:54</td>\n      <td>88</td>\n      <td>1373</td>\n      <td>Speeding (dry)</td>\n      <td>Speeding - Highway dry</td>\n      <td>80</td>\n      <td>8</td>\n      <td>10.00</td>\n    </tr>\n    <tr>\n      <th>...</th>\n      <td>...</td>\n      <td>...</td>\n      <td>...</td>\n      <td>...</td>\n      <td>...</td>\n      <td>...</td>\n      <td>...</td>\n      <td>...</td>\n      <td>...</td>\n      <td>...</td>\n      <td>...</td>\n      <td>...</td>\n    </tr>\n    <tr>\n      <th>4969</th>\n      <td>03/02/2025 03:25:46 (UTC-3)</td>\n      <td>RTJ2F79</td>\n      <td>No driver</td>\n      <td>548486.9</td>\n      <td>00:01:23</td>\n      <td>89</td>\n      <td>1387</td>\n      <td>Speeding (dry)</td>\n      <td>Speeding - Highway dry</td>\n      <td>80</td>\n      <td>9</td>\n      <td>11.25</td>\n    </tr>\n    <tr>\n      <th>4970</th>\n      <td>03/02/2025 03:22:09 (UTC-3)</td>\n      <td>RTJ2F79</td>\n      <td>No driver</td>\n      <td>548485.3</td>\n      <td>00:02:32</td>\n      <td>91</td>\n      <td>1382</td>\n      <td>Speeding (dry)</td>\n      <td>Speeding - Highway dry</td>\n      <td>80</td>\n      <td>11</td>\n      <td>13.75</td>\n    </tr>\n    <tr>\n      <th>4971</th>\n      <td>03/02/2025 03:19:13 (UTC-3)</td>\n      <td>RTJ2F79</td>\n      <td>No driver</td>\n      <td>548481.1</td>\n      <td>00:02:48</td>\n      <td>89</td>\n      <td>1388</td>\n      <td>Speeding (dry)</td>\n      <td>Speeding - Highway dry</td>\n      <td>80</td>\n      <td>9</td>\n      <td>11.25</td>\n    </tr>\n    <tr>\n      <th>4972</th>\n      <td>03/02/2025 03:15:46 (UTC-3)</td>\n      <td>RTJ2F79</td>\n      <td>No driver</td>\n      <td>548476.0</td>\n      <td>00:00:22</td>\n      <td>83</td>\n      <td>1304</td>\n      <td>Speeding (dry)</td>\n      <td>Speeding - Highway dry</td>\n      <td>80</td>\n      <td>3</td>\n      <td>3.75</td>\n    </tr>\n    <tr>\n      <th>4973</th>\n      <td>03/02/2025 03:15:03 (UTC-3)</td>\n      <td>RTJ2F79</td>\n      <td>No driver</td>\n      <td>548475.2</td>\n      <td>00:00:13</td>\n      <td>83</td>\n      <td>501</td>\n      <td>Speeding (dry)</td>\n      <td>Speeding - Highway dry</td>\n      <td>80</td>\n      <td>3</td>\n      <td>3.75</td>\n    </tr>\n  </tbody>\n</table>\n<p>4974 rows × 12 columns</p>\n</div>"
     },
     "execution_count": 27,
     "metadata": {},
     "output_type": "execute_result"
    }
   ],
   "source": [
    "df2"
   ],
   "metadata": {
    "collapsed": false,
    "ExecuteTime": {
     "end_time": "2025-09-15T23:32:29.160024400Z",
     "start_time": "2025-09-15T23:32:29.130265300Z"
    }
   },
   "id": "1db072d12d687f26"
  },
  {
   "cell_type": "code",
   "execution_count": 28,
   "outputs": [
    {
     "data": {
      "text/plain": "np.int64(4619)"
     },
     "execution_count": 28,
     "metadata": {},
     "output_type": "execute_result"
    }
   ],
   "source": [
    "df2.descricao_evento.str.contains('dry').sum()"
   ],
   "metadata": {
    "collapsed": false,
    "ExecuteTime": {
     "end_time": "2025-09-15T23:32:39.474483800Z",
     "start_time": "2025-09-15T23:32:39.441874200Z"
    }
   },
   "id": "a021b9c51d53fb07"
  },
  {
   "cell_type": "code",
   "execution_count": 33,
   "outputs": [
    {
     "data": {
      "text/plain": "(3557, 12)"
     },
     "execution_count": 33,
     "metadata": {},
     "output_type": "execute_result"
    }
   ],
   "source": [
    "# Filtrando excessos de velocidade acima de 4%\n",
    "\n",
    "# usando query\n",
    "#df2.query(\"exc_vel_per >= 4.00\").shape\n",
    "\n",
    "# usando loc\n",
    "df2[df2.exc_vel_per >= 4.00].shape\n"
   ],
   "metadata": {
    "collapsed": false,
    "ExecuteTime": {
     "end_time": "2025-09-15T23:34:12.820393500Z",
     "start_time": "2025-09-15T23:34:12.799667400Z"
    }
   },
   "id": "22463896eee082b2"
  },
  {
   "cell_type": "code",
   "execution_count": 35,
   "outputs": [
    {
     "data": {
      "text/plain": "                 descricao_evento  eventos\n0         Speeding - Highway dry      3228\n1   Speeding - Highway with Rain       329",
      "text/html": "<div>\n<style scoped>\n    .dataframe tbody tr th:only-of-type {\n        vertical-align: middle;\n    }\n\n    .dataframe tbody tr th {\n        vertical-align: top;\n    }\n\n    .dataframe thead th {\n        text-align: right;\n    }\n</style>\n<table border=\"1\" class=\"dataframe\">\n  <thead>\n    <tr style=\"text-align: right;\">\n      <th></th>\n      <th>descricao_evento</th>\n      <th>eventos</th>\n    </tr>\n  </thead>\n  <tbody>\n    <tr>\n      <th>0</th>\n      <td>Speeding - Highway dry</td>\n      <td>3228</td>\n    </tr>\n    <tr>\n      <th>1</th>\n      <td>Speeding - Highway with Rain</td>\n      <td>329</td>\n    </tr>\n  </tbody>\n</table>\n</div>"
     },
     "execution_count": 35,
     "metadata": {},
     "output_type": "execute_result"
    }
   ],
   "source": [
    "# contando eventos por tipo de evento\n",
    "df2[df2.exc_vel_per >= 4.00].value_counts('descricao_evento').reset_index().rename({\"count\": \"eventos\"}, axis=1)\n"
   ],
   "metadata": {
    "collapsed": false,
    "ExecuteTime": {
     "end_time": "2025-09-15T23:35:20.948948800Z",
     "start_time": "2025-09-15T23:35:20.931060500Z"
    }
   },
   "id": "3142528d130091b"
  },
  {
   "cell_type": "code",
   "execution_count": 37,
   "outputs": [
    {
     "data": {
      "text/plain": "                             data   veiculo                    motorista  \\\n0     05/03/2025 08:20:06 (UTC-3)   RTJ2F79   ERIVELTON MIRANDA DA SILVA   \n1     05/03/2025 08:15:30 (UTC-3)   RTJ2F79   ERIVELTON MIRANDA DA SILVA   \n2     05/03/2025 08:14:03 (UTC-3)   RTJ2F79   ERIVELTON MIRANDA DA SILVA   \n3     05/03/2025 08:11:50 (UTC-3)   RTJ2F79   ERIVELTON MIRANDA DA SILVA   \n4     05/03/2025 08:11:04 (UTC-3)   RTJ2F79   ERIVELTON MIRANDA DA SILVA   \n...                           ...       ...                          ...   \n4969  03/02/2025 03:25:46 (UTC-3)   RTJ2F79                   No driver    \n4970  03/02/2025 03:22:09 (UTC-3)   RTJ2F79                   No driver    \n4971  03/02/2025 03:19:13 (UTC-3)   RTJ2F79                   No driver    \n4972  03/02/2025 03:15:46 (UTC-3)   RTJ2F79                   No driver    \n4973  03/02/2025 03:15:03 (UTC-3)   RTJ2F79                   No driver    \n\n      odometro    duracao  velocidade   rpm       tipo_evento  \\\n0     561865.7   00:00:15          86  1996   Speeding (dry)    \n1     561860.2   00:00:19          84  2008   Speeding (dry)    \n2     561858.6   00:01:24          87  1365   Speeding (dry)    \n3     561855.6   00:00:30          90  2177   Speeding (dry)    \n4     561854.6   00:00:54          88  1373   Speeding (dry)    \n...        ...        ...         ...   ...               ...   \n4969  548486.9   00:01:23          89  1387   Speeding (dry)    \n4970  548485.3   00:02:32          91  1382   Speeding (dry)    \n4971  548481.1   00:02:48          89  1388   Speeding (dry)    \n4972  548476.0   00:00:22          83  1304   Speeding (dry)    \n4973  548475.2   00:00:13          83   501   Speeding (dry)    \n\n              descricao_evento  limite_velocidade  exc_vel  exc_vel_per  \\\n0      Speeding - Highway dry                  80        6         7.50   \n1      Speeding - Highway dry                  80        4         5.00   \n2      Speeding - Highway dry                  80        7         8.75   \n3      Speeding - Highway dry                  80       10        12.50   \n4      Speeding - Highway dry                  80        8        10.00   \n...                        ...                ...      ...          ...   \n4969   Speeding - Highway dry                  80        9        11.25   \n4970   Speeding - Highway dry                  80       11        13.75   \n4971   Speeding - Highway dry                  80        9        11.25   \n4972   Speeding - Highway dry                  80        3         3.75   \n4973   Speeding - Highway dry                  80        3         3.75   \n\n           data_      hora     fuso  \n0     05/03/2025  08:20:06  (UTC-3)  \n1     05/03/2025  08:15:30  (UTC-3)  \n2     05/03/2025  08:14:03  (UTC-3)  \n3     05/03/2025  08:11:50  (UTC-3)  \n4     05/03/2025  08:11:04  (UTC-3)  \n...          ...       ...      ...  \n4969  03/02/2025  03:25:46  (UTC-3)  \n4970  03/02/2025  03:22:09  (UTC-3)  \n4971  03/02/2025  03:19:13  (UTC-3)  \n4972  03/02/2025  03:15:46  (UTC-3)  \n4973  03/02/2025  03:15:03  (UTC-3)  \n\n[4974 rows x 15 columns]",
      "text/html": "<div>\n<style scoped>\n    .dataframe tbody tr th:only-of-type {\n        vertical-align: middle;\n    }\n\n    .dataframe tbody tr th {\n        vertical-align: top;\n    }\n\n    .dataframe thead th {\n        text-align: right;\n    }\n</style>\n<table border=\"1\" class=\"dataframe\">\n  <thead>\n    <tr style=\"text-align: right;\">\n      <th></th>\n      <th>data</th>\n      <th>veiculo</th>\n      <th>motorista</th>\n      <th>odometro</th>\n      <th>duracao</th>\n      <th>velocidade</th>\n      <th>rpm</th>\n      <th>tipo_evento</th>\n      <th>descricao_evento</th>\n      <th>limite_velocidade</th>\n      <th>exc_vel</th>\n      <th>exc_vel_per</th>\n      <th>data_</th>\n      <th>hora</th>\n      <th>fuso</th>\n    </tr>\n  </thead>\n  <tbody>\n    <tr>\n      <th>0</th>\n      <td>05/03/2025 08:20:06 (UTC-3)</td>\n      <td>RTJ2F79</td>\n      <td>ERIVELTON MIRANDA DA SILVA</td>\n      <td>561865.7</td>\n      <td>00:00:15</td>\n      <td>86</td>\n      <td>1996</td>\n      <td>Speeding (dry)</td>\n      <td>Speeding - Highway dry</td>\n      <td>80</td>\n      <td>6</td>\n      <td>7.50</td>\n      <td>05/03/2025</td>\n      <td>08:20:06</td>\n      <td>(UTC-3)</td>\n    </tr>\n    <tr>\n      <th>1</th>\n      <td>05/03/2025 08:15:30 (UTC-3)</td>\n      <td>RTJ2F79</td>\n      <td>ERIVELTON MIRANDA DA SILVA</td>\n      <td>561860.2</td>\n      <td>00:00:19</td>\n      <td>84</td>\n      <td>2008</td>\n      <td>Speeding (dry)</td>\n      <td>Speeding - Highway dry</td>\n      <td>80</td>\n      <td>4</td>\n      <td>5.00</td>\n      <td>05/03/2025</td>\n      <td>08:15:30</td>\n      <td>(UTC-3)</td>\n    </tr>\n    <tr>\n      <th>2</th>\n      <td>05/03/2025 08:14:03 (UTC-3)</td>\n      <td>RTJ2F79</td>\n      <td>ERIVELTON MIRANDA DA SILVA</td>\n      <td>561858.6</td>\n      <td>00:01:24</td>\n      <td>87</td>\n      <td>1365</td>\n      <td>Speeding (dry)</td>\n      <td>Speeding - Highway dry</td>\n      <td>80</td>\n      <td>7</td>\n      <td>8.75</td>\n      <td>05/03/2025</td>\n      <td>08:14:03</td>\n      <td>(UTC-3)</td>\n    </tr>\n    <tr>\n      <th>3</th>\n      <td>05/03/2025 08:11:50 (UTC-3)</td>\n      <td>RTJ2F79</td>\n      <td>ERIVELTON MIRANDA DA SILVA</td>\n      <td>561855.6</td>\n      <td>00:00:30</td>\n      <td>90</td>\n      <td>2177</td>\n      <td>Speeding (dry)</td>\n      <td>Speeding - Highway dry</td>\n      <td>80</td>\n      <td>10</td>\n      <td>12.50</td>\n      <td>05/03/2025</td>\n      <td>08:11:50</td>\n      <td>(UTC-3)</td>\n    </tr>\n    <tr>\n      <th>4</th>\n      <td>05/03/2025 08:11:04 (UTC-3)</td>\n      <td>RTJ2F79</td>\n      <td>ERIVELTON MIRANDA DA SILVA</td>\n      <td>561854.6</td>\n      <td>00:00:54</td>\n      <td>88</td>\n      <td>1373</td>\n      <td>Speeding (dry)</td>\n      <td>Speeding - Highway dry</td>\n      <td>80</td>\n      <td>8</td>\n      <td>10.00</td>\n      <td>05/03/2025</td>\n      <td>08:11:04</td>\n      <td>(UTC-3)</td>\n    </tr>\n    <tr>\n      <th>...</th>\n      <td>...</td>\n      <td>...</td>\n      <td>...</td>\n      <td>...</td>\n      <td>...</td>\n      <td>...</td>\n      <td>...</td>\n      <td>...</td>\n      <td>...</td>\n      <td>...</td>\n      <td>...</td>\n      <td>...</td>\n      <td>...</td>\n      <td>...</td>\n      <td>...</td>\n    </tr>\n    <tr>\n      <th>4969</th>\n      <td>03/02/2025 03:25:46 (UTC-3)</td>\n      <td>RTJ2F79</td>\n      <td>No driver</td>\n      <td>548486.9</td>\n      <td>00:01:23</td>\n      <td>89</td>\n      <td>1387</td>\n      <td>Speeding (dry)</td>\n      <td>Speeding - Highway dry</td>\n      <td>80</td>\n      <td>9</td>\n      <td>11.25</td>\n      <td>03/02/2025</td>\n      <td>03:25:46</td>\n      <td>(UTC-3)</td>\n    </tr>\n    <tr>\n      <th>4970</th>\n      <td>03/02/2025 03:22:09 (UTC-3)</td>\n      <td>RTJ2F79</td>\n      <td>No driver</td>\n      <td>548485.3</td>\n      <td>00:02:32</td>\n      <td>91</td>\n      <td>1382</td>\n      <td>Speeding (dry)</td>\n      <td>Speeding - Highway dry</td>\n      <td>80</td>\n      <td>11</td>\n      <td>13.75</td>\n      <td>03/02/2025</td>\n      <td>03:22:09</td>\n      <td>(UTC-3)</td>\n    </tr>\n    <tr>\n      <th>4971</th>\n      <td>03/02/2025 03:19:13 (UTC-3)</td>\n      <td>RTJ2F79</td>\n      <td>No driver</td>\n      <td>548481.1</td>\n      <td>00:02:48</td>\n      <td>89</td>\n      <td>1388</td>\n      <td>Speeding (dry)</td>\n      <td>Speeding - Highway dry</td>\n      <td>80</td>\n      <td>9</td>\n      <td>11.25</td>\n      <td>03/02/2025</td>\n      <td>03:19:13</td>\n      <td>(UTC-3)</td>\n    </tr>\n    <tr>\n      <th>4972</th>\n      <td>03/02/2025 03:15:46 (UTC-3)</td>\n      <td>RTJ2F79</td>\n      <td>No driver</td>\n      <td>548476.0</td>\n      <td>00:00:22</td>\n      <td>83</td>\n      <td>1304</td>\n      <td>Speeding (dry)</td>\n      <td>Speeding - Highway dry</td>\n      <td>80</td>\n      <td>3</td>\n      <td>3.75</td>\n      <td>03/02/2025</td>\n      <td>03:15:46</td>\n      <td>(UTC-3)</td>\n    </tr>\n    <tr>\n      <th>4973</th>\n      <td>03/02/2025 03:15:03 (UTC-3)</td>\n      <td>RTJ2F79</td>\n      <td>No driver</td>\n      <td>548475.2</td>\n      <td>00:00:13</td>\n      <td>83</td>\n      <td>501</td>\n      <td>Speeding (dry)</td>\n      <td>Speeding - Highway dry</td>\n      <td>80</td>\n      <td>3</td>\n      <td>3.75</td>\n      <td>03/02/2025</td>\n      <td>03:15:03</td>\n      <td>(UTC-3)</td>\n    </tr>\n  </tbody>\n</table>\n<p>4974 rows × 15 columns</p>\n</div>"
     },
     "execution_count": 37,
     "metadata": {},
     "output_type": "execute_result"
    }
   ],
   "source": [
    "# Transformações no campo de data\n",
    "df2[['data_', 'hora', 'fuso']] = df2.data.str.split(' ', expand=True)\n",
    "\n",
    "df2"
   ],
   "metadata": {
    "collapsed": false,
    "ExecuteTime": {
     "end_time": "2025-09-15T23:36:24.211712900Z",
     "start_time": "2025-09-15T23:36:24.171911600Z"
    }
   },
   "id": "e3f732d77ae014a2"
  },
  {
   "cell_type": "code",
   "execution_count": 38,
   "outputs": [],
   "source": [
    "df2.drop(['data', 'hora', 'fuso'], axis=1, inplace=True)"
   ],
   "metadata": {
    "collapsed": false,
    "ExecuteTime": {
     "end_time": "2025-09-15T23:36:47.729129600Z",
     "start_time": "2025-09-15T23:36:47.692440500Z"
    }
   },
   "id": "c70ec41601f8fcd6"
  },
  {
   "cell_type": "code",
   "execution_count": 39,
   "outputs": [
    {
     "data": {
      "text/plain": "    veiculo                    motorista  odometro    duracao  velocidade  \\\n0   RTJ2F79   ERIVELTON MIRANDA DA SILVA  561865.7   00:00:15          86   \n1   RTJ2F79   ERIVELTON MIRANDA DA SILVA  561860.2   00:00:19          84   \n2   RTJ2F79   ERIVELTON MIRANDA DA SILVA  561858.6   00:01:24          87   \n\n    rpm       tipo_evento          descricao_evento  limite_velocidade  \\\n0  1996   Speeding (dry)    Speeding - Highway dry                  80   \n1  2008   Speeding (dry)    Speeding - Highway dry                  80   \n2  1365   Speeding (dry)    Speeding - Highway dry                  80   \n\n   exc_vel  exc_vel_per       data_  \n0        6         7.50  05/03/2025  \n1        4         5.00  05/03/2025  \n2        7         8.75  05/03/2025  ",
      "text/html": "<div>\n<style scoped>\n    .dataframe tbody tr th:only-of-type {\n        vertical-align: middle;\n    }\n\n    .dataframe tbody tr th {\n        vertical-align: top;\n    }\n\n    .dataframe thead th {\n        text-align: right;\n    }\n</style>\n<table border=\"1\" class=\"dataframe\">\n  <thead>\n    <tr style=\"text-align: right;\">\n      <th></th>\n      <th>veiculo</th>\n      <th>motorista</th>\n      <th>odometro</th>\n      <th>duracao</th>\n      <th>velocidade</th>\n      <th>rpm</th>\n      <th>tipo_evento</th>\n      <th>descricao_evento</th>\n      <th>limite_velocidade</th>\n      <th>exc_vel</th>\n      <th>exc_vel_per</th>\n      <th>data_</th>\n    </tr>\n  </thead>\n  <tbody>\n    <tr>\n      <th>0</th>\n      <td>RTJ2F79</td>\n      <td>ERIVELTON MIRANDA DA SILVA</td>\n      <td>561865.7</td>\n      <td>00:00:15</td>\n      <td>86</td>\n      <td>1996</td>\n      <td>Speeding (dry)</td>\n      <td>Speeding - Highway dry</td>\n      <td>80</td>\n      <td>6</td>\n      <td>7.50</td>\n      <td>05/03/2025</td>\n    </tr>\n    <tr>\n      <th>1</th>\n      <td>RTJ2F79</td>\n      <td>ERIVELTON MIRANDA DA SILVA</td>\n      <td>561860.2</td>\n      <td>00:00:19</td>\n      <td>84</td>\n      <td>2008</td>\n      <td>Speeding (dry)</td>\n      <td>Speeding - Highway dry</td>\n      <td>80</td>\n      <td>4</td>\n      <td>5.00</td>\n      <td>05/03/2025</td>\n    </tr>\n    <tr>\n      <th>2</th>\n      <td>RTJ2F79</td>\n      <td>ERIVELTON MIRANDA DA SILVA</td>\n      <td>561858.6</td>\n      <td>00:01:24</td>\n      <td>87</td>\n      <td>1365</td>\n      <td>Speeding (dry)</td>\n      <td>Speeding - Highway dry</td>\n      <td>80</td>\n      <td>7</td>\n      <td>8.75</td>\n      <td>05/03/2025</td>\n    </tr>\n  </tbody>\n</table>\n</div>"
     },
     "execution_count": 39,
     "metadata": {},
     "output_type": "execute_result"
    }
   ],
   "source": [
    "df2.head(3)"
   ],
   "metadata": {
    "collapsed": false,
    "ExecuteTime": {
     "end_time": "2025-09-15T23:36:57.079060100Z",
     "start_time": "2025-09-15T23:36:57.027917700Z"
    }
   },
   "id": "96f2a1b0acc226ed"
  },
  {
   "cell_type": "code",
   "execution_count": 61,
   "outputs": [],
   "source": [
    "df2['data_'] = pd.to_datetime(df2['data_'], dayfirst=True, errors='coerce')"
   ],
   "metadata": {
    "collapsed": false,
    "ExecuteTime": {
     "end_time": "2025-09-09T00:05:36.924873600Z",
     "start_time": "2025-09-09T00:05:36.832662400Z"
    }
   },
   "id": "d7278b6bcd4e7129"
  },
  {
   "cell_type": "code",
   "execution_count": 40,
   "outputs": [
    {
     "data": {
      "text/plain": "    veiculo                    motorista  odometro    duracao  velocidade  \\\n0   RTJ2F79   ERIVELTON MIRANDA DA SILVA  561865.7   00:00:15          86   \n1   RTJ2F79   ERIVELTON MIRANDA DA SILVA  561860.2   00:00:19          84   \n2   RTJ2F79   ERIVELTON MIRANDA DA SILVA  561858.6   00:01:24          87   \n3   RTJ2F79   ERIVELTON MIRANDA DA SILVA  561855.6   00:00:30          90   \n4   RTJ2F79   ERIVELTON MIRANDA DA SILVA  561854.6   00:00:54          88   \n\n    rpm       tipo_evento          descricao_evento  limite_velocidade  \\\n0  1996   Speeding (dry)    Speeding - Highway dry                  80   \n1  2008   Speeding (dry)    Speeding - Highway dry                  80   \n2  1365   Speeding (dry)    Speeding - Highway dry                  80   \n3  2177   Speeding (dry)    Speeding - Highway dry                  80   \n4  1373   Speeding (dry)    Speeding - Highway dry                  80   \n\n   exc_vel  exc_vel_per       data_  \n0        6         7.50  05/03/2025  \n1        4         5.00  05/03/2025  \n2        7         8.75  05/03/2025  \n3       10        12.50  05/03/2025  \n4        8        10.00  05/03/2025  ",
      "text/html": "<div>\n<style scoped>\n    .dataframe tbody tr th:only-of-type {\n        vertical-align: middle;\n    }\n\n    .dataframe tbody tr th {\n        vertical-align: top;\n    }\n\n    .dataframe thead th {\n        text-align: right;\n    }\n</style>\n<table border=\"1\" class=\"dataframe\">\n  <thead>\n    <tr style=\"text-align: right;\">\n      <th></th>\n      <th>veiculo</th>\n      <th>motorista</th>\n      <th>odometro</th>\n      <th>duracao</th>\n      <th>velocidade</th>\n      <th>rpm</th>\n      <th>tipo_evento</th>\n      <th>descricao_evento</th>\n      <th>limite_velocidade</th>\n      <th>exc_vel</th>\n      <th>exc_vel_per</th>\n      <th>data_</th>\n    </tr>\n  </thead>\n  <tbody>\n    <tr>\n      <th>0</th>\n      <td>RTJ2F79</td>\n      <td>ERIVELTON MIRANDA DA SILVA</td>\n      <td>561865.7</td>\n      <td>00:00:15</td>\n      <td>86</td>\n      <td>1996</td>\n      <td>Speeding (dry)</td>\n      <td>Speeding - Highway dry</td>\n      <td>80</td>\n      <td>6</td>\n      <td>7.50</td>\n      <td>05/03/2025</td>\n    </tr>\n    <tr>\n      <th>1</th>\n      <td>RTJ2F79</td>\n      <td>ERIVELTON MIRANDA DA SILVA</td>\n      <td>561860.2</td>\n      <td>00:00:19</td>\n      <td>84</td>\n      <td>2008</td>\n      <td>Speeding (dry)</td>\n      <td>Speeding - Highway dry</td>\n      <td>80</td>\n      <td>4</td>\n      <td>5.00</td>\n      <td>05/03/2025</td>\n    </tr>\n    <tr>\n      <th>2</th>\n      <td>RTJ2F79</td>\n      <td>ERIVELTON MIRANDA DA SILVA</td>\n      <td>561858.6</td>\n      <td>00:01:24</td>\n      <td>87</td>\n      <td>1365</td>\n      <td>Speeding (dry)</td>\n      <td>Speeding - Highway dry</td>\n      <td>80</td>\n      <td>7</td>\n      <td>8.75</td>\n      <td>05/03/2025</td>\n    </tr>\n    <tr>\n      <th>3</th>\n      <td>RTJ2F79</td>\n      <td>ERIVELTON MIRANDA DA SILVA</td>\n      <td>561855.6</td>\n      <td>00:00:30</td>\n      <td>90</td>\n      <td>2177</td>\n      <td>Speeding (dry)</td>\n      <td>Speeding - Highway dry</td>\n      <td>80</td>\n      <td>10</td>\n      <td>12.50</td>\n      <td>05/03/2025</td>\n    </tr>\n    <tr>\n      <th>4</th>\n      <td>RTJ2F79</td>\n      <td>ERIVELTON MIRANDA DA SILVA</td>\n      <td>561854.6</td>\n      <td>00:00:54</td>\n      <td>88</td>\n      <td>1373</td>\n      <td>Speeding (dry)</td>\n      <td>Speeding - Highway dry</td>\n      <td>80</td>\n      <td>8</td>\n      <td>10.00</td>\n      <td>05/03/2025</td>\n    </tr>\n  </tbody>\n</table>\n</div>"
     },
     "execution_count": 40,
     "metadata": {},
     "output_type": "execute_result"
    }
   ],
   "source": [
    "df2.head()"
   ],
   "metadata": {
    "collapsed": false,
    "ExecuteTime": {
     "end_time": "2025-09-15T23:36:59.433350900Z",
     "start_time": "2025-09-15T23:36:59.404442Z"
    }
   },
   "id": "143ed7660b342640"
  },
  {
   "cell_type": "code",
   "execution_count": 41,
   "outputs": [],
   "source": [
    "# reorganizando colunas\n",
    "colunas = ['data_', 'veiculo', 'motorista', 'duracao', 'velocidade','tipo_evento', 'descricao_evento', 'limite_velocidade', 'exc_vel',\n",
    "       'exc_vel_per' ]\n",
    "\n",
    "# alterando o nome da coluna data_ para data\n",
    "df2 = df2[colunas].rename(columns={'data_': 'data'})"
   ],
   "metadata": {
    "collapsed": false,
    "ExecuteTime": {
     "end_time": "2025-09-15T23:37:32.486640700Z",
     "start_time": "2025-09-15T23:37:32.470273300Z"
    }
   },
   "id": "902b106b31f81a97"
  },
  {
   "cell_type": "code",
   "execution_count": 42,
   "outputs": [],
   "source": [
    "# importando sqlAlchemy\n",
    "from sqlalchemy import create_engine\n",
    "banco_de_dados = 'banco_de_dados'\n",
    "engine = create_engine(f'sqlite:///{banco_de_dados}')\n"
   ],
   "metadata": {
    "collapsed": false,
    "ExecuteTime": {
     "end_time": "2025-09-15T23:38:29.058014600Z",
     "start_time": "2025-09-15T23:38:28.135371Z"
    }
   },
   "id": "22473164bc1cf12e"
  },
  {
   "cell_type": "code",
   "execution_count": 43,
   "outputs": [
    {
     "data": {
      "text/plain": "4974"
     },
     "execution_count": 43,
     "metadata": {},
     "output_type": "execute_result"
    }
   ],
   "source": [
    "df2.to_sql('telemetria_puxada', engine, if_exists='replace', index=False)"
   ],
   "metadata": {
    "collapsed": false,
    "ExecuteTime": {
     "end_time": "2025-09-15T23:39:19.125617800Z",
     "start_time": "2025-09-15T23:39:19.055426600Z"
    }
   },
   "id": "27d8aad70163e190"
  },
  {
   "cell_type": "code",
   "execution_count": null,
   "outputs": [],
   "source": [],
   "metadata": {
    "collapsed": false
   },
   "id": "77aeb62c6539750c"
  }
 ],
 "metadata": {
  "kernelspec": {
   "display_name": "Python 3",
   "language": "python",
   "name": "python3"
  },
  "language_info": {
   "codemirror_mode": {
    "name": "ipython",
    "version": 2
   },
   "file_extension": ".py",
   "mimetype": "text/x-python",
   "name": "python",
   "nbconvert_exporter": "python",
   "pygments_lexer": "ipython2",
   "version": "2.7.6"
  }
 },
 "nbformat": 4,
 "nbformat_minor": 5
}
